{
 "cells": [
  {
   "cell_type": "code",
   "execution_count": 15,
   "id": "valuable-climate",
   "metadata": {},
   "outputs": [
    {
     "name": "stdout",
     "output_type": "stream",
     "text": [
      "To the Lighthouse Virginia Woolf 320\n",
      "Dune Frank Herbert 592\n",
      "War and Peace Leo Tolstoy 1225\n",
      "\n",
      "\n",
      "The Waves Virginia Woolf 320\n",
      "Dune Thomas Hardy 592\n",
      "War and Peace Leo Tolstoy 1445\n"
     ]
    }
   ],
   "source": [
    "class Book:\n",
    "    def __init__(self,name,author,pages):\n",
    "        self.name = name\n",
    "        self.author = author\n",
    "        self.pages = pages\n",
    "        \n",
    "    def change_name(self,name):\n",
    "        self.name = name\n",
    "        \n",
    "    def change_author(self,author):\n",
    "        self.author = author\n",
    "        \n",
    "    def change_pages(self,pages):\n",
    "        self.pages = pages\n",
    "    \n",
    "first = Book(\"To the Lighthouse\",\"Virginia Woolf\",320)\n",
    "second = Book(\"Dune\",\"Frank Herbert\",592)\n",
    "third = Book(\"War and Peace\",\"Leo Tolstoy\",1225)\n",
    "print(first.name, first.author, first.pages)\n",
    "print(second.name, second.author, second.pages)\n",
    "print(third.name, third.author, third.pages)\n",
    "first.change_name(\"The Waves\")\n",
    "second.change_author(\"Thomas Hardy\")\n",
    "third.change_pages(1445)\n",
    "print(\"\\n\")\n",
    "print(first.name, first.author, first.pages)\n",
    "print(second.name, second.author, second.pages)\n",
    "print(third.name, third.author, third.pages)"
   ]
  },
  {
   "cell_type": "code",
   "execution_count": 13,
   "id": "theoretical-penguin",
   "metadata": {},
   "outputs": [
    {
     "name": "stdout",
     "output_type": "stream",
     "text": [
      "Wuthering Heights Emily Bronte 384\n",
      "Wuthering Heights Emily Bronte 384\n",
      "Wuthering Heights Emily Bronte 384\n",
      "\n",
      "\n",
      "Consuelo Emily Bronte 384\n",
      "Wuthering Heights Jane Austen 384\n",
      "Wuthering Heights Emily Bronte 665\n"
     ]
    }
   ],
   "source": [
    "class Book:\n",
    "    name = \"Wuthering Heights\"\n",
    "    author = \"Emily Bronte\"\n",
    "    pages = 384\n",
    "    \n",
    "    def change_name(self,name):\n",
    "        self.name = name\n",
    "        \n",
    "    def change_author(self,author):\n",
    "        self.author = author\n",
    "        \n",
    "    def change_pages(self,pages):\n",
    "        self.pages = pages\n",
    "\n",
    "first = Book()\n",
    "second = Book()\n",
    "third = Book()\n",
    "print(first.name, first.author, first.pages)\n",
    "print(second.name, second.author, second.pages)\n",
    "print(third.name, third.author, third.pages)\n",
    "first.change_name(\"Consuelo\")\n",
    "second.change_author(\"Jane Austen\")\n",
    "third.change_pages(665)\n",
    "print(\"\\n\")\n",
    "print(first.name, first.author, first.pages)\n",
    "print(second.name, second.author, second.pages)\n",
    "print(third.name, third.author, third.pages)"
   ]
  },
  {
   "cell_type": "code",
   "execution_count": 22,
   "id": "statistical-century",
   "metadata": {},
   "outputs": [
    {
     "name": "stdout",
     "output_type": "stream",
     "text": [
      "There are 40 Read Paint left in the industrial warehouse\n",
      "There are 220 Vanilla left in the foodstuff warehouse\n",
      "There are 448 Dove left in the chemical warehouse\n",
      "There are 330 Extreme Matte left in the wholesale warehouse\n",
      "There are 119 Jack Daniels left in the reserve warehouse\n"
     ]
    }
   ],
   "source": [
    "class Storage:\n",
    "    def __init__(self, name, type_,code,quantity):\n",
    "        self.name = name\n",
    "        self.type_ = type_\n",
    "        self.code = code\n",
    "        self.quantity = quantity\n",
    "        \n",
    "    def change_quantity(self, quantity):\n",
    "        self.quantity = quantity\n",
    "        \n",
    "industrial = Storage(\"Read Paint\",\"Paint\", 1, 110)\n",
    "foodstuff = Storage(\"Vanilla\", \"Ice cream\", 2, 552)\n",
    "chemical = Storage(\"Dove\", \"Shampoo\", 3, 884)\n",
    "wholesale = Storage(\"Extreme Matte\", \"Lipstick\", 4, 775)\n",
    "reserve = Storage(\"Jack Daniels\", \"alcohol\", 5, 337)\n",
    "industrial.change_quantity(40)\n",
    "foodstuff.change_quantity(220)\n",
    "chemical.change_quantity(448)\n",
    "wholesale.change_quantity(330)\n",
    "reserve.change_quantity(119)\n",
    "print(\"There are \" + str(industrial.quantity ) +\" \"+ str(industrial.name) + \" left in the industrial warehouse\")\n",
    "print(\"There are \" + str(foodstuff.quantity ) +\" \"+ str(foodstuff.name) + \" left in the foodstuff warehouse\")\n",
    "print(\"There are \" + str(chemical.quantity ) +\" \"+ str(chemical.name) + \" left in the chemical warehouse\")\n",
    "print(\"There are \" + str(wholesale.quantity ) +\" \"+ str(wholesale.name) + \" left in the wholesale warehouse\")\n",
    "print(\"There are \" + str(reserve.quantity )+\" \" + str(reserve.name) + \" left in the reserve warehouse\")       "
   ]
  },
  {
   "cell_type": "code",
   "execution_count": 53,
   "id": "reduced-literacy",
   "metadata": {},
   "outputs": [
    {
     "name": "stdout",
     "output_type": "stream",
     "text": [
      "Room walls area: 24 кв.м\n",
      "Ceiling area: 9 кв.м\n",
      "<__main__.Ceiling object at 0x7fc32c295860>\n",
      "Floor area: 0 кв.м\n",
      "<__main__.Floor object at 0x7fc32c2da7b8>\n"
     ]
    }
   ],
   "source": [
    "class Room:\n",
    "    def __init__(self,x,y,z):\n",
    "        self.square = 2 * z * (x + y)\n",
    "\n",
    "    def win_door(self, d,e, f,g, m=2,n=3):\n",
    "        self.window = Win_Door(d,e)\n",
    "        self.door = Win_Door(f,g)\n",
    "        self.numb_w = m\n",
    "        self.numb_d = n\n",
    "        \n",
    "    def wallpainting(self):\n",
    "        self.wallpainting = self.square - self.window.square * self.numb_w - self.door.square * self.numb_d\n",
    "        \n",
    "    def printer(self):\n",
    "        print (\"Room walls area: \" + str(self.square) +\" кв.м\")\n",
    "        print(Ceiling(3,3))\n",
    "        print(Floor(3,3))\n",
    "\n",
    "class Win_Door:\n",
    "    def __init__(self,x,y):\n",
    "        self.square = x * y\n",
    "\n",
    "class Floor:\n",
    "    def __init__(self,x, y):\n",
    "        self.x = x\n",
    "        self.y = y\n",
    "        self.f_square = x*y-1\n",
    "        print(\"Floor area: \" + str(self.f_square) +\" кв.м\")\n",
    "        \n",
    "class Ceiling:\n",
    "    def __init__(self, x, y):\n",
    "        self.x = x\n",
    "        self.y = y\n",
    "        self.c_square = x*y\n",
    "        print(\"Ceiling area: \" + str(self.c_square) +\" кв.м\")\n",
    "        \n",
    "Class_Room = Room(3, 3, 2)\n",
    "\n",
    "Class_Room.win_door(1.5,1.5, 2,1, 2)\n",
    "\n",
    "Class_Room.wallpainting()\n",
    "\n",
    "Class_Room.printer()"
   ]
  },
  {
   "cell_type": "code",
   "execution_count": null,
   "id": "stuffed-polyester",
   "metadata": {},
   "outputs": [],
   "source": []
  }
 ],
 "metadata": {
  "kernelspec": {
   "display_name": "conda_amazonei_mxnet_p36",
   "language": "python",
   "name": "conda_amazonei_mxnet_p36"
  },
  "language_info": {
   "codemirror_mode": {
    "name": "ipython",
    "version": 3
   },
   "file_extension": ".py",
   "mimetype": "text/x-python",
   "name": "python",
   "nbconvert_exporter": "python",
   "pygments_lexer": "ipython3",
   "version": "3.6.10"
  }
 },
 "nbformat": 4,
 "nbformat_minor": 5
}
