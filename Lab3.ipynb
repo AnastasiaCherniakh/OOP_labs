{
 "cells": [
  {
   "cell_type": "code",
   "execution_count": 26,
   "id": "geological-sympathy",
   "metadata": {},
   "outputs": [
    {
     "name": "stdout",
     "output_type": "stream",
     "text": [
      "List of documents in the electronic document management system:\n",
      "Letter\n",
      "Order\n",
      "Directive\n",
      "----------------------------------------------\n",
      "Input a number of document:\n",
      "333\n",
      "Content of the LETTER document\n"
     ]
    }
   ],
   "source": [
    "class Enterprise:\n",
    "    def __init__(self,name,number,date,content):\n",
    "        self.name=name\n",
    "        self.number=number\n",
    "        self.date=date\n",
    "        self.content=content\n",
    "\n",
    "    def get_letter_info(self,type_,correspondent):\n",
    "        self.type_=type_\n",
    "        self.correspondent=correspondent\n",
    "\n",
    "    def get_order_info(self,unit,deadline,executor):\n",
    "        self.unit=unit\n",
    "        self.deadline=deadline\n",
    "        self.executor=executor\n",
    "\n",
    "    def get_directive_info(self,employee,period,workplace):\n",
    "        self.employee=employee\n",
    "        self.period=period\n",
    "        self.workplace=workplace\n",
    "\n",
    "    def get_info(self):\n",
    "        print(str(self.name))\n",
    "\n",
    "    def get_content(self):\n",
    "        print(str(self.content))\n",
    "\n",
    "Letter = Enterprise(\"Letter\",333,\"11.09.20\",\"Content of the LETTER document\")\n",
    "Order = Enterprise(\"Order\",674,\"23.12.20\",\"Content of the ORDER document\")\n",
    "Directive = Enterprise(\"Directive\",228,\"12.02.21\",\"Content of the DIRECTIVE document\")\n",
    "print(\"List of documents in the electronic document management system:\")\n",
    "Letter.get_info()\n",
    "Order.get_info()\n",
    "Directive.get_info()\n",
    "print(\"----------------------------------------------\")\n",
    "print(\"Input a number of document:\")\n",
    "user = int(input())\n",
    "if user==333:\n",
    "    Letter.get_content()\n",
    "elif user==674:\n",
    "    Order.get_content()\n",
    "elif user==228:\n",
    "    Directive.get_content()\n",
    "else:\n",
    "    print(\"A document with this number does not exist\")\n"
   ]
  },
  {
   "cell_type": "code",
   "execution_count": 27,
   "id": "covered-stamp",
   "metadata": {},
   "outputs": [
    {
     "name": "stdout",
     "output_type": "stream",
     "text": [
      "List of components in online-store:\n",
      "Motherboard\n",
      "Processor\n",
      "Video Card\n",
      "----------------------------------------------\n",
      "Input a nomenclature number of the component:\n",
      "557\n",
      "Detailed information about motherboard:LGA 1150 socket, 177 processors, DDR2-667 RAM, 553 system bus frequency\n"
     ]
    }
   ],
   "source": [
    "class Store:\n",
    "    def __init__(self,name,number,price):\n",
    "        self.name=name\n",
    "        self.number=number\n",
    "        self.price=price\n",
    "\n",
    "    def get_motherboard_info(self,socket,nprocessors,RAM,system_frequency):\n",
    "        self.socket=socket\n",
    "        self.nprocessors=nprocessors\n",
    "        self.RAM=RAM\n",
    "        self.system_frequency = system_frequency\n",
    "        print(\"Detailed information about motherboard:\" + str(self.socket) + \" socket, \" + str(self.nprocessors)+ \" processors, \" \n",
    "    + str(self.RAM)+\" RAM, \" + str(self.system_frequency) + \" system bus frequency\")\n",
    "\n",
    "    def get_processor_info(self,socket,ncores,clock_frequency,process_technology):\n",
    "        self.socket=socket\n",
    "        self.ncores=ncores\n",
    "        self.clock_frequency=clock_frequency\n",
    "        self.process_technology=process_technology\n",
    "        print(\"Detailed information about processor:\" + str(self.socket) + \" socket, \" + str(self.ncores)+ \" cores, \" \n",
    "              + str(self.clock_frequency)+ \" speed, \" + str(self.process_technology) + \" technical process\")\n",
    "\n",
    "    def get_videocard_info(self,vchip_frequency,fill_rate,ntexture_blocks):\n",
    "        self.vchip_frequency=vchip_frequency\n",
    "        self.fill_rate=fill_rate\n",
    "        self.ntexture_blocks=ntexture_blocks\n",
    "        print(\"Detailed information about video card:\" + str(self.vchip_frequency) + \" video chip speed,\" + str(self.fill_rate)+ \" fill rate, \" \n",
    "              + str(self.ntexture_blocks) + \" texturing blocks\")\n",
    "\n",
    "    def get_info(self):\n",
    "        print(str(self.name))\n",
    "\n",
    "Motherboard = Store(\"Motherboard\",557,699)\n",
    "Processor = Store(\"Processor\",320,1009)\n",
    "Video_Card = Store(\"Video Card\",777,1390)\n",
    "print(\"List of components in online-store:\")\n",
    "Motherboard.get_info()\n",
    "Processor.get_info()\n",
    "Video_Card.get_info()\n",
    "print(\"----------------------------------------------\")\n",
    "print(\"Input a nomenclature number of the component:\")\n",
    "user = int(input())\n",
    "if user==557:\n",
    "    Motherboard.get_motherboard_info(\"LGA 1150\",177,\"DDR2-667\",553)\n",
    "elif user==320:\n",
    "    Processor.get_processor_info(\"Socket AM4\",8,\"3,2Hz\",22)\n",
    "elif user==777:\n",
    "    Video_Card.get_videocard_info(\"1122Hz\",\"9.9 GPixel/s\",10400)\n",
    "else:\n",
    "    print(\"A component with this nomenclature number does not exist\")\n"
   ]
  },
  {
   "cell_type": "code",
   "execution_count": null,
   "id": "secure-phenomenon",
   "metadata": {},
   "outputs": [],
   "source": []
  }
 ],
 "metadata": {
  "kernelspec": {
   "display_name": "conda_amazonei_mxnet_p36",
   "language": "python",
   "name": "conda_amazonei_mxnet_p36"
  },
  "language_info": {
   "codemirror_mode": {
    "name": "ipython",
    "version": 3
   },
   "file_extension": ".py",
   "mimetype": "text/x-python",
   "name": "python",
   "nbconvert_exporter": "python",
   "pygments_lexer": "ipython3",
   "version": "3.6.10"
  }
 },
 "nbformat": 4,
 "nbformat_minor": 5
}
