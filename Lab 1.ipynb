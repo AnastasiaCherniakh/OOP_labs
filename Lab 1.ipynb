{
 "cells": [
  {
   "cell_type": "code",
   "execution_count": 6,
   "metadata": {},
   "outputs": [
    {
     "name": "stdout",
     "output_type": "stream",
     "text": [
      "Jane finished 1 term\n",
      "Jane finished 2 term\n",
      "Jane finished 3 term\n",
      "Jane finished 4 term\n",
      "Jane finished 5 term\n",
      "Jane graduated!\n"
     ]
    }
   ],
   "source": [
    "class UniversityStudent:\n",
    "    term = 1\n",
    "    \n",
    "    def next_term(self):\n",
    "        while (self.term <=5):\n",
    "            print(\"Jane finished \" + str(self.term)+\" term\")\n",
    "            self.term += 1\n",
    "        print(\"Jane graduated!\")\n",
    "Jane = UniversityStudent()\n",
    "Jane.next_term()"
   ]
  },
  {
   "cell_type": "code",
   "execution_count": 36,
   "metadata": {},
   "outputs": [
    {
     "name": "stdout",
     "output_type": "stream",
     "text": [
      "Pianist name is Martha\n",
      "John has 23 years of work experience\n",
      "Martha will perform Clair de Lune by Debussy\n",
      "George will perform Across the Stars by John Williams\n",
      "\n",
      "\n",
      "Kate will perform Dawn by Dario Marianelli\n",
      "Do re la fa fa mi la sol do ti sol re\n",
      "After performing Dawn, Kate bowed\n",
      "\n",
      "\n",
      "Otis has 6 years of work experience\n",
      "Do re la fa fa mi la sol do ti sol re\n",
      "After performing Piano Sonata No. 17, Otis bowed\n"
     ]
    }
   ],
   "source": [
    "class Pianist:\n",
    "    def information(self,name,composition, experience, author):\n",
    "        self.name = name\n",
    "        self.composition = composition\n",
    "        self.experience = experience\n",
    "        self.author = author\n",
    "        \n",
    "    def pianist_name(self):\n",
    "        print(\"Pianist name is \" + str(self.name))\n",
    "        \n",
    "    def work_experience(self):\n",
    "        print(str(self.name) + \" has \" + str(self.experience) + \" years of work experience\")\n",
    "        \n",
    "    def composition_name(self):\n",
    "        print(str(self.name) + \" will perform \" + str(self.composition) + \" by \" + str(self.author))\n",
    "        \n",
    "martha = Pianist()\n",
    "george = Pianist()\n",
    "john = Pianist()\n",
    "\n",
    "martha.information(\"Martha\", \"Clair de Lune\", 12, \"Debussy\")\n",
    "george.information(\"George\",\"Across the Stars\", 5, \"John Williams\")\n",
    "john.information(\"John\", \"Sonata No. 11\", 23, \"Wolfgang Amadeus Mozart\")\n",
    "\n",
    "martha.pianist_name()\n",
    "john.work_experience()\n",
    "martha.composition_name()\n",
    "george.composition_name()\n",
    "\n",
    "\n",
    "class Performance(Pianist):\n",
    "    def playing(self):\n",
    "        print(\"Do re la fa fa mi la sol do ti sol re\")\n",
    "        \n",
    "    def bow(self):\n",
    "        print(\"After performing \" + str(self.composition) + \", \" + str(self.name) + \" bowed\")\n",
    "\n",
    "print(\"\\n\")\n",
    "kate = Performance()\n",
    "kate.information(\"Kate\", \"Dawn\", 14, \"Dario Marianelli\")\n",
    "kate.composition_name()\n",
    "kate.playing()\n",
    "kate.bow()\n",
    "print(\"\\n\")\n",
    "otis = Performance()\n",
    "otis.information(\"Otis\", \"Piano Sonata No. 17\", 6, \"Ludwig van Beethoven\")\n",
    "otis.work_experience()\n",
    "otis.playing()\n",
    "otis.bow()"
   ]
  },
  {
   "cell_type": "code",
   "execution_count": null,
   "metadata": {},
   "outputs": [],
   "source": [
    "\n"
   ]
  },
  {
   "cell_type": "code",
   "execution_count": null,
   "metadata": {},
   "outputs": [],
   "source": []
  }
 ],
 "metadata": {
  "kernelspec": {
   "display_name": "conda_amazonei_mxnet_p36",
   "language": "python",
   "name": "conda_amazonei_mxnet_p36"
  },
  "language_info": {
   "codemirror_mode": {
    "name": "ipython",
    "version": 3
   },
   "file_extension": ".py",
   "mimetype": "text/x-python",
   "name": "python",
   "nbconvert_exporter": "python",
   "pygments_lexer": "ipython3",
   "version": "3.6.10"
  }
 },
 "nbformat": 4,
 "nbformat_minor": 4
}
